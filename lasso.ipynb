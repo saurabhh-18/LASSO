{
 "cells": [
  {
   "cell_type": "code",
   "execution_count": 89,
   "metadata": {},
   "outputs": [],
   "source": [
    "from sklearn.datasets import load_diabetes\n",
    "diabetes = load_diabetes()"
   ]
  },
  {
   "cell_type": "code",
   "execution_count": 90,
   "metadata": {},
   "outputs": [],
   "source": [
    "from sklearn.model_selection import train_test_split\n",
    "X_train, X_test, y_train, y_test = train_test_split(diabetes.data, diabetes.target, random_state=1806)"
   ]
  },
  {
   "cell_type": "markdown",
   "metadata": {},
   "source": [
    "Lasso on sklearn's diabetes dataset\n"
   ]
  },
  {
   "cell_type": "code",
   "execution_count": 93,
   "metadata": {},
   "outputs": [
    {
     "name": "stdout",
     "output_type": "stream",
     "text": [
      "The Number of features used are = 2\n",
      "The features used are = ['bmi' 's5']\n",
      "R*2 for train =  0.3752773016717367\n",
      "R*2 for test =  0.3129513083651597\n"
     ]
    }
   ],
   "source": [
    "import numpy as np\n",
    "from sklearn.linear_model import Lasso\n",
    "\n",
    "lasso = Lasso().fit(X_train,y_train)\n",
    "\n",
    "train_R_square = lasso.score(X_train,y_train)\n",
    "\n",
    "test_R_square = lasso.score(X_test,y_test)\n",
    "\n",
    "np.sum(lasso.coef_!= 0)\n",
    "\n",
    "k=np.array(diabetes.feature_names)\n",
    "\n",
    "print(\"The Number of features used are =\",np.sum(lasso.coef_!= 0))\n",
    "\n",
    "print(\"The features used are =\", k[lasso.coef_!=0])\n",
    "\n",
    "print(\"R*2 for train = \",lasso.score(X_train,y_train))\n",
    "\n",
    "print(\"R*2 for test = \",lasso.score(X_test,y_test))\n",
    "\n",
    "\n"
   ]
  },
  {
   "cell_type": "markdown",
   "metadata": {},
   "source": [
    "Lasso on downloaded diabetes dataset."
   ]
  },
  {
   "cell_type": "code",
   "execution_count": 102,
   "metadata": {},
   "outputs": [],
   "source": [
    "import numpy as np\n",
    "\n",
    "from sklearn.linear_model import Lasso\n",
    "\n",
    "diabetes_data = np.genfromtxt('diabetes.txt', delimiter=\"\\t\", usecols=np.arange(10), skip_header=1)     \n",
    "\n",
    "diabetes_target = np.genfromtxt('diabetes.txt', delimiter=\"\\t\" ,usecols=10, skip_header=1)         \n",
    "\n",
    "X_train, X_test, y_train, y_test = train_test_split(diabetes_data, diabetes_target, random_state=1806)\n"
   ]
  },
  {
   "cell_type": "code",
   "execution_count": 85,
   "metadata": {},
   "outputs": [
    {
     "name": "stdout",
     "output_type": "stream",
     "text": [
      "The Number of features used are = 10\n",
      "The features used are = ['age' 'sex' 'bmi' 'bp' 's1' 's2' 's3' 's4' 's5' 's6']\n",
      "R*2 for train =  0.5265840700907847\n",
      "R*2 for test =  0.45048329267014037\n"
     ]
    }
   ],
   "source": [
    "from sklearn.linear_model import Lasso\n",
    "\n",
    "lasso = Lasso().fit(X_train,y_train)\n",
    "\n",
    "train_R_square = lasso.score(X_train,y_train)\n",
    "\n",
    "test_R_square = lasso.score(X_test,y_test)\n",
    "\n",
    "np.sum(lasso.coef_!= 0)\n",
    "\n",
    "k=np.array(diabetes.feature_names)\n",
    "\n",
    "print(\"The Number of features used are =\",np.sum(lasso.coef_!= 0))\n",
    "\n",
    "print(\"The features used are =\", k[lasso.coef_!=0])\n",
    "\n",
    "print(\"R*2 for train = \",lasso.score(X_train,y_train))\n",
    "\n",
    "print(\"R*2 for test = \",lasso.score(X_test,y_test))"
   ]
  },
  {
   "cell_type": "markdown",
   "metadata": {},
   "source": [
    "Scaling Datasets Results."
   ]
  },
  {
   "cell_type": "code",
   "execution_count": 98,
   "metadata": {},
   "outputs": [],
   "source": [
    "from sklearn.preprocessing import StandardScaler\n",
    "\n",
    "scaler = StandardScaler().fit(X_train)\n",
    "\n",
    "X_trn_scaled = scaler.transform(X_train)\n",
    "\n",
    "X_tst_scaled = scaler.transform(X_test)"
   ]
  },
  {
   "cell_type": "code",
   "execution_count": 99,
   "metadata": {},
   "outputs": [
    {
     "name": "stdout",
     "output_type": "stream",
     "text": [
      "The Number of features used are = 8\n",
      "The features used are = ['sex' 'bmi' 'bp' 's1' 's3' 's4' 's5' 's6']\n",
      "R*2 for train =  0.5283207286166693\n",
      "R*2 for test =  0.4586304186711237\n"
     ]
    }
   ],
   "source": [
    "\n",
    "lasso = Lasso().fit(X_trn_scaled,y_train)\n",
    "\n",
    "train_R_square = lasso.score(X_trn_scaled,y_train)\n",
    "\n",
    "test_R_square = lasso.score(X_tst_scaled,y_test)\n",
    "\n",
    "np.sum(lasso.coef_!= 0)\n",
    "\n",
    "print(\"The Number of features used are =\",np.sum(lasso.coef_!= 0))\n",
    "\n",
    "print(\"The features used are =\", k[lasso.coef_!=0])\n",
    "\n",
    "print(\"R*2 for train = \",lasso.score(X_trn_scaled,y_train))\n",
    "\n",
    "print(\"R*2 for test = \",lasso.score(X_tst_scaled,y_test))"
   ]
  },
  {
   "cell_type": "code",
   "execution_count": 134,
   "metadata": {},
   "outputs": [
    {
     "name": "stderr",
     "output_type": "stream",
     "text": [
      "C:\\Users\\saura\\anaconda3\\lib\\site-packages\\ipykernel_launcher.py:9: UserWarning: With alpha=0, this algorithm does not converge well. You are advised to use the LinearRegression estimator\n",
      "  if __name__ == '__main__':\n",
      "C:\\Users\\saura\\anaconda3\\lib\\site-packages\\sklearn\\linear_model\\_coordinate_descent.py:476: UserWarning: Coordinate descent with no regularization may lead to unexpected results and is discouraged.\n",
      "  positive)\n",
      "C:\\Users\\saura\\anaconda3\\lib\\site-packages\\sklearn\\linear_model\\_coordinate_descent.py:476: ConvergenceWarning: Objective did not converge. You might want to increase the number of iterations. Duality gap: 453160.4831417051, tolerance: 194.81061329305135\n",
      "  positive)\n"
     ]
    },
    {
     "data": {
      "image/png": "[encoded data removed]",
      "text/plain": [
       "<Figure size 432x288 with 1 Axes>"
      ]
     },
     "metadata": {
      "needs_background": "light"
     },
     "output_type": "display_data"
    }
   ],
   "source": [
    "import matplotlib.pyplot as plt\n",
    "\n",
    "X=np.ones(10)\n",
    "Y=np.ones(10)\n",
    "\n",
    "count=0;\n",
    "\n",
    "for i in range (0,10):\n",
    "    lasso=Lasso(alpha=i,max_iter=10000).fit(X_trn_scaled,y_train)\n",
    "    X[count]=lasso.score(X_tst_scaled,y_test)\n",
    "    Y[count]=np.sum(lasso.coef_!= 0) \n",
    "    count+=1;\n",
    "    \n",
    "plt.plot(X,Y,color=\"red\", linewidth=1.5) \n",
    "plt.ylabel('features used') \n",
    "plt.xlabel('R^2')    \n",
    "\n",
    "plt.title('R^2 vs features used')\n",
    "plt.grid()\n"
   ]
  },
  {
   "cell_type": "markdown",
   "metadata": {},
   "source": [
    "We are here handling on 10 features in this model.I will prefer the point(0.4599,8) to be considered as the most efficient.\n",
    "Because this point is taking only 8 features out of 10 from train, also giving the highest value for the R square as a output."
   ]
  },
  {
   "cell_type": "code",
   "execution_count": 137,
   "metadata": {},
   "outputs": [
    {
     "name": "stdout",
     "output_type": "stream",
     "text": [
      "Alpha 1\n",
      "R*2 for train =  0.5283207286166693\n",
      "R*2 for test =  0.4586304186711237\n",
      "number of features used =  8\n"
     ]
    },
    {
     "name": "stderr",
     "output_type": "stream",
     "text": [
      "C:\\Users\\saura\\anaconda3\\lib\\site-packages\\sklearn\\model_selection\\_validation.py:515: UserWarning: With alpha=0, this algorithm does not converge well. You are advised to use the LinearRegression estimator\n",
      "  estimator.fit(X_train, y_train, **fit_params)\n",
      "C:\\Users\\saura\\anaconda3\\lib\\site-packages\\sklearn\\linear_model\\_coordinate_descent.py:476: UserWarning: Coordinate descent with no regularization may lead to unexpected results and is discouraged.\n",
      "  positive)\n",
      "C:\\Users\\saura\\anaconda3\\lib\\site-packages\\sklearn\\linear_model\\_coordinate_descent.py:476: ConvergenceWarning: Objective did not converge. You might want to increase the number of iterations. Duality gap: 310372.23465080454, tolerance: 142.22138363636364\n",
      "  positive)\n",
      "C:\\Users\\saura\\anaconda3\\lib\\site-packages\\sklearn\\model_selection\\_validation.py:515: UserWarning: With alpha=0, this algorithm does not converge well. You are advised to use the LinearRegression estimator\n",
      "  estimator.fit(X_train, y_train, **fit_params)\n",
      "C:\\Users\\saura\\anaconda3\\lib\\site-packages\\sklearn\\linear_model\\_coordinate_descent.py:476: UserWarning: Coordinate descent with no regularization may lead to unexpected results and is discouraged.\n",
      "  positive)\n",
      "C:\\Users\\saura\\anaconda3\\lib\\site-packages\\sklearn\\linear_model\\_coordinate_descent.py:476: ConvergenceWarning: Objective did not converge. You might want to increase the number of iterations. Duality gap: 296383.8363747846, tolerance: 130.49664705882353\n",
      "  positive)\n",
      "C:\\Users\\saura\\anaconda3\\lib\\site-packages\\sklearn\\model_selection\\_validation.py:515: UserWarning: With alpha=0, this algorithm does not converge well. You are advised to use the LinearRegression estimator\n",
      "  estimator.fit(X_train, y_train, **fit_params)\n",
      "C:\\Users\\saura\\anaconda3\\lib\\site-packages\\sklearn\\linear_model\\_coordinate_descent.py:476: UserWarning: Coordinate descent with no regularization may lead to unexpected results and is discouraged.\n",
      "  positive)\n",
      "C:\\Users\\saura\\anaconda3\\lib\\site-packages\\sklearn\\linear_model\\_coordinate_descent.py:476: ConvergenceWarning: Objective did not converge. You might want to increase the number of iterations. Duality gap: 280983.6811304672, tolerance: 114.62106334841629\n",
      "  positive)\n"
     ]
    }
   ],
   "source": [
    "from sklearn.model_selection import GridSearchCV\n",
    "\n",
    "grid_search=GridSearchCV(Lasso(),param_grid={'alpha':[0,1,2,3,4,5,6,7,8]},cv=3).fit(X_trn_scaled, y_train).best_estimator_\n",
    "\n",
    "lasso = Lasso(alpha = grid_search.alpha).fit(X_trn_scaled,y_train)\n",
    "\n",
    "print(\"Alpha\",grid_search.alpha)\n",
    "\n",
    "print(\"R*2 for train = \",lasso.score(X_trn_scaled,y_train))\n",
    "\n",
    "print(\"R*2 for test = \",lasso.score(X_tst_scaled,y_test))\n",
    "\n",
    "print(\"number of features used = \",np.sum(lasso.coef_!= 0))\n"
   ]
  },
  {
   "cell_type": "markdown",
   "metadata": {},
   "source": [
    "Inductive Conformal Predictor."
   ]
  },
  {
   "cell_type": "code",
   "execution_count": 138,
   "metadata": {},
   "outputs": [],
   "source": [
    "\n",
    "X_trn_proper,X_calibration,y_trn_proper,y_calibration = train_test_split(X_train, y_train, test_size=99, random_state=1806)\n",
    "\n",
    "scaler = StandardScaler().fit(X_trn_proper)\n",
    "\n",
    "X_trn_proper_s = scaler.transform(X_trn_proper)\n",
    "\n",
    "X_calibration_s = scaler.transform(X_calibration)\n",
    "\n",
    "X_test_s = scaler.transform(X_test)"
   ]
  },
  {
   "cell_type": "code",
   "execution_count": 135,
   "metadata": {},
   "outputs": [],
   "source": [
    "lasso = Lasso().fit(X_trn_proper_s,y_trn_proper)"
   ]
  },
  {
   "cell_type": "markdown",
   "metadata": {},
   "source": [
    "Results:-\n",
    "1)Training and Test R*2 values with default version diabetes dataset of Scikit-learn\n",
    "  Train- 0.3752773016717367\n",
    "  Test- 0.3129513083651597\n",
    "  Number of features used-2\n",
    "  \n",
    "2)Training and Test R*2 values with original version diabetes dataset.\n",
    "  Train- 0.5265840700907847\n",
    "  Test- 0.45048329267014037\n",
    "  Number of features used-10\n",
    "  \n",
    "3)Training and Test R*2 values with original version diabetes dataset after Scaling.\n",
    "  Train- 0.5283207286166693\n",
    "  Test-  0.4586304186711237\n",
    "  Number of features used-8  \n",
    "  \n",
    "4)Training and Test R*2 values with best parameters chosen by cross-validation.\n",
    "  Train- 0.5283207286166693\n",
    "  Test-  0.4586304186711237\n",
    "  Number of features used-8 \n",
    "   \n",
    "5)  \n",
    "\n",
    "  \n",
    "  "
   ]
  }
 ],
 "metadata": {
  "kernelspec": {
   "display_name": "Python 3",
   "language": "python",
   "name": "python3"
  },
  "language_info": {
   "codemirror_mode": {
    "name": "ipython",
    "version": 3
   },
   "file_extension": ".py",
   "mimetype": "text/x-python",
   "name": "python",
   "nbconvert_exporter": "python",
   "pygments_lexer": "ipython3",
   "version": "3.7.6"
  }
 },
 "nbformat": 4,
 "nbformat_minor": 4
}
